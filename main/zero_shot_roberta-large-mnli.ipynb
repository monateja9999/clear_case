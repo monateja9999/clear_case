{
 "cells": [
  {
   "cell_type": "code",
   "execution_count": 2,
   "id": "2a9e65fc-021d-48e5-a370-50eae659799b",
   "metadata": {},
   "outputs": [
    {
     "name": "stderr",
     "output_type": "stream",
     "text": [
      "Some weights of the model checkpoint at roberta-large-mnli were not used when initializing RobertaForSequenceClassification: ['roberta.pooler.dense.bias', 'roberta.pooler.dense.weight']\n",
      "- This IS expected if you are initializing RobertaForSequenceClassification from the checkpoint of a model trained on another task or with another architecture (e.g. initializing a BertForSequenceClassification model from a BertForPreTraining model).\n",
      "- This IS NOT expected if you are initializing RobertaForSequenceClassification from the checkpoint of a model that you expect to be exactly identical (initializing a BertForSequenceClassification model from a BertForSequenceClassification model).\n",
      "Zero-Shot Evaluation: 100%|██████████| 2481/2481 [15:03<00:00,  2.75it/s]"
     ]
    },
    {
     "name": "stdout",
     "output_type": "stream",
     "text": [
      "\n",
      "Zero-Shot Accuracy: 0.2701\n"
     ]
    },
    {
     "name": "stderr",
     "output_type": "stream",
     "text": [
      "\n"
     ]
    }
   ],
   "source": [
    "import torch\n",
    "import pandas as pd\n",
    "from transformers import RobertaTokenizer, RobertaForSequenceClassification\n",
    "from tqdm import tqdm\n",
    "from sklearn.metrics import accuracy_score\n",
    "\n",
    "model_name = \"roberta-large-mnli\"\n",
    "test_filename = \"dataset/legal_text_classifcation_test.csv\"\n",
    "tokenizer = RobertaTokenizer.from_pretrained(model_name)\n",
    "model = RobertaForSequenceClassification.from_pretrained(model_name)\n",
    "device = torch.device(\"cuda\" if torch.cuda.is_available() else \"cpu\")\n",
    "model.to(device)\n",
    "model.eval()\n",
    "\n",
    "df = pd.read_csv(test_filename)\n",
    "\n",
    "df['input_text'] = df['case_text']\n",
    "\n",
    "# Candidate labels\n",
    "candidate_labels = [\n",
    "    \"affirmed\", \"applied\", \"approved\", \"cited\", \"considered\",\n",
    "    \"discussed\", \"distinguished\", \"followed\", \"referred to\", \"related\"\n",
    "]\n",
    "\n",
    "# Build hypothesis templates\n",
    "def construct_hypothesis(label):\n",
    "    return f\"This case was {label}.\"\n",
    "\n",
    "# Perform zero-shot classification\n",
    "predictions = []\n",
    "for premise in tqdm(df['input_text'], desc=\"Zero-Shot Evaluation\"):\n",
    "    label_scores = []\n",
    "    for label in candidate_labels:\n",
    "        hypothesis = construct_hypothesis(label)\n",
    "        inputs = tokenizer.encode_plus(\n",
    "            premise,\n",
    "            hypothesis,\n",
    "            return_tensors=\"pt\",\n",
    "            truncation='only_first',\n",
    "            padding=\"max_length\",\n",
    "            max_length=512\n",
    "        )\n",
    "        input_ids = inputs[\"input_ids\"].to(device)\n",
    "        attention_mask = inputs[\"attention_mask\"].to(device)\n",
    "\n",
    "        with torch.no_grad():\n",
    "            outputs = model(input_ids=input_ids, attention_mask=attention_mask)\n",
    "            logits = outputs.logits\n",
    "            entailment_score = torch.softmax(logits, dim=1)[0][2].item()  # index 2 = entailment\n",
    "            label_scores.append(entailment_score)\n",
    "\n",
    "    # Pick label with highest entailment score\n",
    "    predicted_label = candidate_labels[label_scores.index(max(label_scores))]\n",
    "    predictions.append(predicted_label)\n",
    "\n",
    "# Add predictions and evaluate\n",
    "df['zero_shot_prediction'] = predictions\n",
    "acc = accuracy_score(df['case_outcome'], df['zero_shot_prediction'])\n",
    "print(f\"\\nZero-Shot Accuracy: {acc:.4f}\")\n",
    "\n",
    "df[['input_text', 'case_outcome', 'zero_shot_prediction']].to_csv(\"roberta_zero_shot_results.csv\", index=False)"
   ]
  },
  {
   "cell_type": "code",
   "execution_count": null,
   "id": "4d745519-5af4-457e-b2a0-566dd4468f32",
   "metadata": {},
   "outputs": [],
   "source": []
  }
 ],
 "metadata": {
  "kernelspec": {
   "display_name": "Python 3.13.1 (default)",
   "language": "python",
   "name": "python3"
  },
  "language_info": {
   "codemirror_mode": {
    "name": "ipython",
    "version": 3
   },
   "file_extension": ".py",
   "mimetype": "text/x-python",
   "name": "python",
   "nbconvert_exporter": "python",
   "pygments_lexer": "ipython3",
   "version": "3.13.1"
  }
 },
 "nbformat": 4,
 "nbformat_minor": 5
}
