{
 "cells": [
  {
   "cell_type": "code",
   "execution_count": 1,
   "id": "6365d481-34b0-473d-b3c8-841778b13ad0",
   "metadata": {},
   "outputs": [
    {
     "name": "stderr",
     "output_type": "stream",
     "text": [
      "/home1/avuthu/.local/lib/python3.13/site-packages/tqdm/auto.py:21: TqdmWarning: IProgress not found. Please update jupyter and ipywidgets. See https://ipywidgets.readthedocs.io/en/stable/user_install.html\n",
      "  from .autonotebook import tqdm as notebook_tqdm\n"
     ]
    },
    {
     "name": "stdout",
     "output_type": "stream",
     "text": [
      "Device: cuda:0\n"
     ]
    }
   ],
   "source": [
    "import torch\n",
    "import sys\n",
    "import pandas as pd\n",
    "from sklearn.preprocessing import LabelEncoder\n",
    "from transformers import pipeline\n",
    "\n",
    "device = torch.device(\"cuda:0\" if torch.cuda.is_available() else \"cpu\")\n",
    "print(\"Device:\", device)"
   ]
  },
  {
   "cell_type": "code",
   "execution_count": 2,
   "id": "b8a61b35-d0a6-4302-bb20-d5791febc7e8",
   "metadata": {},
   "outputs": [
    {
     "name": "stdout",
     "output_type": "stream",
     "text": [
      "Before Preprocessing:\n",
      "Total Rows: 24985\n",
      "Total Columns: 4\n",
      "\n",
      "Column Names: Index(['case_id', 'case_outcome', 'case_title', 'case_text'], dtype='object')\n"
     ]
    }
   ],
   "source": [
    "df = pd.read_csv('dataset/legal_text_classification.csv')\n",
    "\n",
    "# Raw Dataset Info\n",
    "print(\"Before Preprocessing:\")\n",
    "print(f\"Total Rows: {df.shape[0]}\")\n",
    "print(f\"Total Columns: {df.shape[1]}\")\n",
    "print(f\"\\nColumn Names: {df.columns}\")"
   ]
  },
  {
   "cell_type": "code",
   "execution_count": 3,
   "id": "433fec9e-3fc9-4d27-8ba2-de4d36c00522",
   "metadata": {},
   "outputs": [
    {
     "name": "stdout",
     "output_type": "stream",
     "text": [
      "Number of Duplicate Rows (same title & text): 0\n"
     ]
    }
   ],
   "source": [
    "# Count duplicates where both case_title and case_text are the same\n",
    "duplicate_rows = df.duplicated().sum()\n",
    "print(f\"Number of Duplicate Rows (same title & text): {duplicate_rows}\")\n",
    "#df = df.drop_duplicates(subset=['case_title', 'case_text'])"
   ]
  },
  {
   "cell_type": "code",
   "execution_count": 4,
   "id": "df8f6fb5-30ce-42cc-945f-10bfc3579f8a",
   "metadata": {},
   "outputs": [
    {
     "name": "stdout",
     "output_type": "stream",
     "text": [
      "Rows with missing values in 'case_text' or 'case_outcome': 176\n"
     ]
    }
   ],
   "source": [
    "# Find and drop rows with missing values in 'case_text' or 'case_outcome'\n",
    "missing_rows = df[df[['case_text', 'case_outcome']].isnull().any(axis=1)]\n",
    "df = df.dropna(subset=['case_text', 'case_outcome'])\n",
    "print(\"Rows with missing values in 'case_text' or 'case_outcome':\", len(missing_rows))"
   ]
  },
  {
   "cell_type": "code",
   "execution_count": 5,
   "id": "407ddb6a-c04a-443d-9c5f-d3fd7e1c2867",
   "metadata": {},
   "outputs": [],
   "source": [
    "# Strip whitespace in text fields\n",
    "df['case_text'] = df['case_text'].str.strip()\n",
    "df['case_title'] = df['case_title'].str.strip()\n",
    "\n",
    "# Normalize labels to lowercase\n",
    "df['case_outcome'] = df['case_outcome'].str.lower().str.strip()"
   ]
  },
  {
   "cell_type": "code",
   "execution_count": 6,
   "id": "c7b924ee-bec4-4c87-96e4-967392aa6e45",
   "metadata": {},
   "outputs": [
    {
     "name": "stdout",
     "output_type": "stream",
     "text": [
      "Label Mapping Table:\n",
      " case_outcome  case_label\n",
      "     affirmed           0\n",
      "      applied           1\n",
      "     approved           2\n",
      "        cited           3\n",
      "   considered           4\n",
      "    discussed           5\n",
      "distinguished           6\n",
      "     followed           7\n",
      "  referred to           8\n",
      "      related           9\n"
     ]
    }
   ],
   "source": [
    "# Encode the 'case_outcome' column into numeric labels\n",
    "label_encoder = LabelEncoder()\n",
    "df['case_label'] = label_encoder.fit_transform(df['case_outcome'])\n",
    "\n",
    "label_mapping_df = pd.DataFrame({\n",
    "    'case_outcome': label_encoder.classes_,\n",
    "    'case_label': label_encoder.transform(label_encoder.classes_)\n",
    "})\n",
    "print(\"Label Mapping Table:\")\n",
    "print(label_mapping_df.to_string(index=False))"
   ]
  },
  {
   "cell_type": "code",
   "execution_count": 7,
   "id": "37d3515d-df76-4359-bed9-59fc36be32fc",
   "metadata": {},
   "outputs": [
    {
     "name": "stdout",
     "output_type": "stream",
     "text": [
      "After Preprocessing:\n",
      "Total Rows: 24809\n",
      "Total Columns: 5\n",
      "\n",
      "Column Names: Index(['case_id', 'case_outcome', 'case_title', 'case_text', 'case_label'], dtype='object')\n",
      "\n",
      "Sample Data:\n",
      "   case_id case_outcome                                         case_title  \\\n",
      "0   Case1        cited  Alpine Hardwood (Aust) Pty Ltd v Hardys Pty Lt...   \n",
      "1   Case2        cited  Black v Lipovac [1998] FCA 699 ; (1998) 217 AL...   \n",
      "2   Case3        cited  Colgate Palmolive Co v Cussons Pty Ltd (1993) ...   \n",
      "3   Case4        cited  Dais Studio Pty Ltd v Bullett Creative Pty Ltd...   \n",
      "4   Case5        cited  Dr Martens Australia Pty Ltd v Figgins Holding...   \n",
      "\n",
      "                                           case_text  case_label  \n",
      "0  Ordinarily that discretion will be exercised s...           3  \n",
      "1  The general principles governing the exercise ...           3  \n",
      "2  Ordinarily that discretion will be exercised s...           3  \n",
      "3  The general principles governing the exercise ...           3  \n",
      "4  The preceding general principles inform the ex...           3  \n"
     ]
    }
   ],
   "source": [
    "# Preprocessed Dataset info\n",
    "print(\"After Preprocessing:\")\n",
    "print(f\"Total Rows: {df.shape[0]}\")\n",
    "print(f\"Total Columns: {df.shape[1]}\")\n",
    "print(f\"\\nColumn Names: {df.columns}\")\n",
    "\n",
    "print(\"\\nSample Data:\\n\", df.head())"
   ]
  },
  {
   "cell_type": "code",
   "execution_count": 8,
   "id": "ab356522-7afa-4aa9-b465-19de25fa071a",
   "metadata": {},
   "outputs": [
    {
     "name": "stdout",
     "output_type": "stream",
     "text": [
      "Train set size     : 19847 rows\n",
      "Validation set size: 2481 rows\n",
      "Test set size      : 2481 rows\n",
      "Overall Label Distribution:\n",
      " case_label\n",
      "3    12110\n",
      "8     4363\n",
      "1     2438\n",
      "7     2252\n",
      "4     1699\n",
      "5     1018\n",
      "6      603\n",
      "9      112\n",
      "2      108\n",
      "0      106\n",
      "Name: count, dtype: int64\n"
     ]
    }
   ],
   "source": [
    "from sklearn.model_selection import train_test_split\n",
    "\n",
    "# First split: Train (80%) and Temp (20%)\n",
    "train_df, temp_df = train_test_split(\n",
    "    df,\n",
    "    test_size=0.2,\n",
    "    stratify=df['case_label'],\n",
    "    random_state=42\n",
    ")\n",
    "\n",
    "# Second split: Validation (10%) and Test (10%) from Temp\n",
    "val_df, test_df = train_test_split(\n",
    "    temp_df,\n",
    "    test_size=0.5,\n",
    "    stratify=temp_df['case_label'],\n",
    "    random_state=42\n",
    ")\n",
    "\n",
    "# Save to CSV files (without index )\n",
    "train_df.to_csv('dataset/legal_text_classifcation_train.csv', index=False)\n",
    "val_df.to_csv('dataset/legal_text_classifcation_val.csv', index=False)\n",
    "test_df.to_csv('dataset/legal_text_classifcation_test.csv', index=False)\n",
    "\n",
    "\n",
    "print(f\"Train set size     : {len(train_df)} rows\")\n",
    "print(f\"Validation set size: {len(val_df)} rows\")\n",
    "print(f\"Test set size      : {len(test_df)} rows\")\n",
    "\n",
    "print(\"Overall Label Distribution:\\n\", df['case_label'].value_counts())\n"
   ]
  },
  {
   "cell_type": "code",
   "execution_count": 9,
   "id": "e3b52797-a916-4e6d-9123-d7976f2e9437",
   "metadata": {},
   "outputs": [
    {
     "name": "stdout",
     "output_type": "stream",
     "text": [
      "  case_id case_outcome                                         case_title  \\\n",
      "0   Case1        cited  Alpine Hardwood (Aust) Pty Ltd v Hardys Pty Lt...   \n",
      "1   Case2        cited  Black v Lipovac [1998] FCA 699 ; (1998) 217 AL...   \n",
      "2   Case3        cited  Colgate Palmolive Co v Cussons Pty Ltd (1993) ...   \n",
      "3   Case4        cited  Dais Studio Pty Ltd v Bullett Creative Pty Ltd...   \n",
      "4   Case5        cited  Dr Martens Australia Pty Ltd v Figgins Holding...   \n",
      "\n",
      "                                           case_text  case_label  \n",
      "0  Ordinarily that discretion will be exercised s...           3  \n",
      "1  The general principles governing the exercise ...           3  \n",
      "2  Ordinarily that discretion will be exercised s...           3  \n",
      "3  The general principles governing the exercise ...           3  \n",
      "4  The preceding general principles inform the ex...           3  \n"
     ]
    }
   ],
   "source": [
    "print(df.head(5))"
   ]
  },
  {
   "cell_type": "code",
   "execution_count": null,
   "id": "cf867d64-8c8f-4715-b90d-815ff837f263",
   "metadata": {},
   "outputs": [],
   "source": []
  }
 ],
 "metadata": {
  "kernelspec": {
   "display_name": "Python 3.13.1 (default)",
   "language": "python",
   "name": "python3"
  },
  "language_info": {
   "codemirror_mode": {
    "name": "ipython",
    "version": 3
   },
   "file_extension": ".py",
   "mimetype": "text/x-python",
   "name": "python",
   "nbconvert_exporter": "python",
   "pygments_lexer": "ipython3",
   "version": "3.13.1"
  }
 },
 "nbformat": 4,
 "nbformat_minor": 5
}
